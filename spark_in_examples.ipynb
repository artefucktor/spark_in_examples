{
 "cells": [
  {
   "cell_type": "markdown",
   "id": "40c8bcac-8f06-432c-bf64-e4e94ba09346",
   "metadata": {},
   "source": [
    "# Примитивы для знакомства со спарком и Spark UI"
   ]
  },
  {
   "cell_type": "code",
   "execution_count": 6,
   "id": "bf891b7d",
   "metadata": {},
   "outputs": [],
   "source": [
    "import os\n",
    "import sys\n",
    "import time\n",
    "\n",
    "os.environ['PYSPARK_PYTHON'] = sys.executable\n",
    "os.environ['PYSPARK_DRIVER_PYTHON'] = sys.executable\n",
    "\n",
    "from pyspark.sql import SparkSession\n",
    "from pyspark.sql.types import IntegerType\n",
    "\n",
    "import pyspark.sql.functions as F"
   ]
  },
  {
   "cell_type": "markdown",
   "id": "ee927e78-6600-43ea-8d2c-3276e8d2b0e7",
   "metadata": {},
   "source": [
    "- Spark UI расположен по адресу http://localhost:4040/ В конфигурации спарк-сессии вы можете указать другой порт при необходимости с помощью параметра `spark.ui.port`\n",
    "- Для локального использования, без сети, без кластера в настройке `master` можно указать `local[*]`. Если звездочка, то используются все доступные ядра. Вместо звездочки можно указать меньшее значение\n",
    "- Проверим что сессия создается и интерфес Spark UI работает, в дальнейшем перед каждым тестом будет пересоздавать сессию `spark = spark_restart(spark)`, иначе спарк все подряд кэширует и оптимизирует и тесты выходят некорректные 😇"
   ]
  },
  {
   "cell_type": "code",
   "execution_count": 7,
   "id": "6f3dd1fe-134c-460b-b645-dbbab81c4e3f",
   "metadata": {},
   "outputs": [],
   "source": [
    "# Spark UI http://localhost:4040/jobs/\n",
    "\n",
    "def spark_start():\n",
    "    spark = (SparkSession.builder\n",
    "        .master('local[*]')\n",
    "        .appName('spark_in_examples')\n",
    "        .config('spark.driver.memory', '4g')\n",
    "        .config('spark.executor.memory', '4g')\n",
    "        .config('spark.driver.bindAddress','localhost')\n",
    "        .config('spark.ui.port', '4040')\n",
    "        .getOrCreate()\n",
    "    )\n",
    "    return spark\n",
    "\n",
    "def spark_restart(spark=None):\n",
    "    if spark and (spark.getActiveSession()):\n",
    "        print('Restart session')\n",
    "        spark.stop()\n",
    "    return spark_start()\n",
    "\n",
    "spark = spark_restart()"
   ]
  },
  {
   "cell_type": "code",
   "execution_count": 3,
   "id": "59ce08d4-f4bd-40ad-b4d3-9b659f6b2e63",
   "metadata": {},
   "outputs": [
    {
     "data": {
      "text/html": [
       "\n",
       "            <div>\n",
       "                <p><b>SparkSession - in-memory</b></p>\n",
       "                \n",
       "        <div>\n",
       "            <p><b>SparkContext</b></p>\n",
       "\n",
       "            <p><a href=\"http://192.168.0.44:4040\">Spark UI</a></p>\n",
       "\n",
       "            <dl>\n",
       "              <dt>Version</dt>\n",
       "                <dd><code>v3.4.1</code></dd>\n",
       "              <dt>Master</dt>\n",
       "                <dd><code>local[*]</code></dd>\n",
       "              <dt>AppName</dt>\n",
       "                <dd><code>spark_in_examples</code></dd>\n",
       "            </dl>\n",
       "        </div>\n",
       "        \n",
       "            </div>\n",
       "        "
      ],
      "text/plain": [
       "<pyspark.sql.session.SparkSession at 0x1157730d0>"
      ]
     },
     "execution_count": 3,
     "metadata": {},
     "output_type": "execute_result"
    }
   ],
   "source": [
    "spark.getActiveSession()"
   ]
  },
  {
   "cell_type": "markdown",
   "id": "b92947f9-5c58-42df-98fb-1cf22a765c11",
   "metadata": {},
   "source": [
    "## Распараллеливание"
   ]
  },
  {
   "cell_type": "markdown",
   "id": "fbe05e44-7a29-4a7e-b158-9b84bcc3efe0",
   "metadata": {},
   "source": [
    "Для имитации длительного процесса будем использовать функцию, которая делает задежку на 5 секунд и потом выводит число `num` полученное в качестве аргумента."
   ]
  },
  {
   "cell_type": "code",
   "execution_count": 5,
   "id": "8aa37ae1-5cd0-43e9-a707-48f70d59b024",
   "metadata": {},
   "outputs": [],
   "source": [
    "def process_data(num):\n",
    "    time.sleep(5)\n",
    "    print('Число ', num, '  ')"
   ]
  },
  {
   "cell_type": "markdown",
   "id": "d556419d-431b-4837-8858-99cd352511b4",
   "metadata": {},
   "source": [
    "Выполним функцию `process_data` 10 раз.\n",
    "\n",
    "Обратите внимание, что вывод значений идет не по порядку – процессы выполняются параллельно и финишируют наперегонки.\n"
   ]
  },
  {
   "cell_type": "code",
   "execution_count": 8,
   "id": "f27de9bb",
   "metadata": {},
   "outputs": [
    {
     "name": "stdout",
     "output_type": "stream",
     "text": [
      "Restart session\n"
     ]
    },
    {
     "name": "stderr",
     "output_type": "stream",
     "text": [
      "Число  7                                                            (0 + 8) / 8]\n",
      "Число  3   \n",
      "Число  0   \n",
      "Число  5   \n",
      "Число  1   \n",
      "Число  6   \n",
      "Число  8   \n",
      "Число  2   \n",
      "[Stage 0:============================================>              (6 + 2) / 8]\r"
     ]
    },
    {
     "name": "stdout",
     "output_type": "stream",
     "text": [
      "CPU times: user 13.8 ms, sys: 8.25 ms, total: 22 ms\n",
      "Wall time: 11.1 s\n"
     ]
    },
    {
     "name": "stderr",
     "output_type": "stream",
     "text": [
      "Число  4   \n",
      "Число  9   \n",
      "                                                                                \r"
     ]
    }
   ],
   "source": [
    "%%time\n",
    "spark = spark_restart(spark)\n",
    "(spark\n",
    " .sparkContext\n",
    " .parallelize(range(10))\n",
    " .foreach(process_data)\n",
    ")"
   ]
  },
  {
   "cell_type": "markdown",
   "id": "3ed6cb87-d8c1-41bb-8e49-f0a7ca84cb01",
   "metadata": {},
   "source": [
    "Время выполнения задания 10-15 секунд.\n",
    "\n",
    "- Перейдите в Spark-UI на вкладку Stages http://localhost:4040/stages/\n",
    "- Кликните в списке стадий по стадии foreach\n",
    "- Перейдите в раздел Event Timeline – здесь вы увидите диаграмму, на которой отображены таски.\n",
    "\n",
    "Максимально количество параллельно выполняемых тасков соответствует количеству ядер. У меня на компе 8 ядер, а итераций в цикле 10. Видно, что все ядра загружены, 8 циклов выполняются одновременно, и два ядра работают дольше других – доделывают оставшиеся два цикла.\n",
    "\n",
    "![event timeline foreach](images/foreach.png)\n",
    "\n"
   ]
  },
  {
   "cell_type": "markdown",
   "id": "f5d13e6c-0a13-41c2-8c72-613ff593eab3",
   "metadata": {},
   "source": [
    "Для примера выполним без использования спарка аналогичный цикл."
   ]
  },
  {
   "cell_type": "code",
   "execution_count": 9,
   "id": "fa51ec17-3c67-411a-99e9-83bb534d01db",
   "metadata": {},
   "outputs": [
    {
     "name": "stdout",
     "output_type": "stream",
     "text": [
      "Число  0   \n",
      "Число  1   \n",
      "Число  2   \n",
      "Число  3   \n",
      "Число  4   \n",
      "Число  5   \n",
      "Число  6   \n",
      "Число  7   \n",
      "Число  8   \n",
      "Число  9   \n",
      "CPU times: user 20.9 ms, sys: 8.51 ms, total: 29.4 ms\n",
      "Wall time: 50 s\n"
     ]
    }
   ],
   "source": [
    "%%time\n",
    "for i in range(10):\n",
    "    process_data(i)"
   ]
  },
  {
   "cell_type": "markdown",
   "id": "552c664b-8e80-47e0-a083-a49fbc6aaeef",
   "metadata": {},
   "source": [
    "Все шаги выполняются строго последовательно, порядок вывода значений не нарушен. Время выполнения – честные 50 секунд, то есть 10 итераций с задержкой по 5 сек."
   ]
  },
  {
   "cell_type": "markdown",
   "id": "f0a3ed87-3a9f-4cfc-884c-949c901be920",
   "metadata": {},
   "source": [
    "## План вычислений"
   ]
  },
  {
   "cell_type": "markdown",
   "id": "f1e0c0e5-00e7-4d70-a57d-90a0531e0f45",
   "metadata": {},
   "source": [
    "Спарк оптимизирует ленивые вычисления и может выполнять их не в том порядке как написано в коде.\n",
    "\n",
    "Посмотрим на примере фильтра и сортировки:\n",
    "- создаем датафрейм, по умолчанию 8 партиций\n",
    "- в коде сначала сортировка и потом два фильтра\n",
    "- в плане спарк объединяет фильтры в один и потом упорядочивает\n",
    "- под капотом операции`orderBy` выполняются два действия\n",
    "    - репартиционирование по указанному столбцу\n",
    "    - сортировка\n",
    "- на выходе у нас упорядоченный датасет из 1 партиции"
   ]
  },
  {
   "cell_type": "code",
   "execution_count": 87,
   "id": "aec3c7f8-e796-4f3f-853f-73937c0b9f13",
   "metadata": {},
   "outputs": [
    {
     "name": "stdout",
     "output_type": "stream",
     "text": [
      "Restart session\n",
      "NumPartitions 8\n"
     ]
    }
   ],
   "source": [
    "spark = spark_restart(spark)\n",
    "rdd = spark.sparkContext.parallelize(range(10))\n",
    "df = spark.createDataFrame(rdd, IntegerType())\n",
    "print('NumPartitions', df.rdd.getNumPartitions())"
   ]
  },
  {
   "cell_type": "code",
   "execution_count": 88,
   "id": "f4063b8c-499b-45f5-b4a2-e5095c4f2132",
   "metadata": {},
   "outputs": [],
   "source": [
    "df = df.orderBy('value', ascending=False)\n",
    "df = df.filter(df['value']<8)\n",
    "df = df.filter(df['value']>2)"
   ]
  },
  {
   "cell_type": "code",
   "execution_count": 89,
   "id": "fdc116c5-7540-445a-a93d-bb338bd97ab5",
   "metadata": {},
   "outputs": [
    {
     "name": "stdout",
     "output_type": "stream",
     "text": [
      "== Physical Plan ==\n",
      "AdaptiveSparkPlan (5)\n",
      "+- Sort (4)\n",
      "   +- Exchange (3)\n",
      "      +- Filter (2)\n",
      "         +- Scan ExistingRDD (1)\n",
      "\n",
      "\n",
      "(1) Scan ExistingRDD\n",
      "Output [1]: [value#310]\n",
      "Arguments: [value#310], MapPartitionsRDD[4] at applySchemaToPythonRDD at <unknown>:0, ExistingRDD, UnknownPartitioning(0)\n",
      "\n",
      "(2) Filter\n",
      "Input [1]: [value#310]\n",
      "Condition : (isnotnull(value#310) AND ((value#310 < 8) AND (value#310 > 2)))\n",
      "\n",
      "(3) Exchange\n",
      "Input [1]: [value#310]\n",
      "Arguments: rangepartitioning(value#310 DESC NULLS LAST, 200), ENSURE_REQUIREMENTS, [plan_id=1227]\n",
      "\n",
      "(4) Sort\n",
      "Input [1]: [value#310]\n",
      "Arguments: [value#310 DESC NULLS LAST], true, 0\n",
      "\n",
      "(5) AdaptiveSparkPlan\n",
      "Output [1]: [value#310]\n",
      "Arguments: isFinalPlan=false\n",
      "\n",
      "\n"
     ]
    },
    {
     "name": "stderr",
     "output_type": "stream",
     "text": [
      "                                                                                \r"
     ]
    },
    {
     "name": "stdout",
     "output_type": "stream",
     "text": [
      "NumPartitions 1\n"
     ]
    }
   ],
   "source": [
    "df.explain(mode='formatted')\n",
    "print('NumPartitions', df.rdd.getNumPartitions())"
   ]
  },
  {
   "cell_type": "markdown",
   "id": "c3e2cd53-e8fc-4a84-bc4d-c82721d195f9",
   "metadata": {},
   "source": [
    "# Партиционирование"
   ]
  },
  {
   "cell_type": "markdown",
   "id": "7b4f29cb-cc5a-46cb-b5ab-9220e2ab6699",
   "metadata": {},
   "source": [
    "### Партиционирование при группировке"
   ]
  },
  {
   "cell_type": "markdown",
   "id": "199de22a-439d-4605-9810-63d9dd0c8838",
   "metadata": {},
   "source": [
    "Проверим репартиционирование при разном количестве групп"
   ]
  },
  {
   "cell_type": "code",
   "execution_count": 132,
   "id": "4d7f1e11-e472-4efc-9742-aefab66d5d19",
   "metadata": {},
   "outputs": [
    {
     "name": "stdout",
     "output_type": "stream",
     "text": [
      "Restart session\n",
      "NumPartitions при создании 8\n"
     ]
    }
   ],
   "source": [
    "spark = spark_restart(spark)\n",
    "rdd = spark.sparkContext.parallelize(range(2_000_000))\n",
    "df = spark.createDataFrame(rdd, IntegerType())\n",
    "print('NumPartitions при создании', df.rdd.getNumPartitions())"
   ]
  },
  {
   "cell_type": "code",
   "execution_count": 134,
   "id": "1a549f89-0723-41db-a990-8d5e5011b20b",
   "metadata": {},
   "outputs": [
    {
     "name": "stderr",
     "output_type": "stream",
     "text": [
      "[Stage 2:======================>                                    (3 + 5) / 8]\r"
     ]
    },
    {
     "name": "stdout",
     "output_type": "stream",
     "text": [
      "NumPartitions 8 количество групп 200000\n",
      "NumPartitions 1 количество групп 2000\n"
     ]
    },
    {
     "name": "stderr",
     "output_type": "stream",
     "text": [
      "[Stage 3:>                                                          (0 + 8) / 8]\r"
     ]
    }
   ],
   "source": [
    "def test_groupby(divideBy=1):\n",
    "    print('NumPartitions', \n",
    "          df.withColumn('group', df['value']%divideBy).groupBy('group').count().rdd.getNumPartitions(),\n",
    "          f'количество групп {divideBy}',\n",
    "    \n",
    "         )\n",
    "\n",
    "test_groupby(200_000)\n",
    "test_groupby(2_000)"
   ]
  },
  {
   "cell_type": "markdown",
   "id": "1dfadbd3-e04e-435d-8107-2ad33466085c",
   "metadata": {},
   "source": [
    "То есть маленький датафрейм у нас схлопнулся в одну партицию 🤔\n",
    "\n",
    "Партиционирование – важный фактор при распараллеливании процессов! Перейдем к следующему тесту 🤓"
   ]
  },
  {
   "cell_type": "markdown",
   "id": "ccf480fe-136b-4771-9d66-3a306bf11f3f",
   "metadata": {},
   "source": [
    "### Распараллеливание и скорость вычислений\n"
   ]
  },
  {
   "cell_type": "markdown",
   "id": "4a602ac7-0d86-43a2-a5fa-975187346abd",
   "metadata": {},
   "source": [
    "Датафреймы в спарке изначально параллельные.\n",
    "- Создадим тестовый датафрейм с колонкой чисел от 0 до 200_000_000\n",
    "- Проверим сколько партиций он содержит (по умолчанию соответствует количеству ядер, в моем случае 8)\n",
    "\n"
   ]
  },
  {
   "cell_type": "markdown",
   "id": "6b4545ad-7744-4261-ac03-09f140f7bc16",
   "metadata": {},
   "source": [
    "#### 8 partitions, 1 stage, 8 tasks"
   ]
  },
  {
   "cell_type": "code",
   "execution_count": 8,
   "id": "5b45b6bd-52f6-4984-9c44-de743e94c713",
   "metadata": {},
   "outputs": [
    {
     "name": "stdout",
     "output_type": "stream",
     "text": [
      "Restart session\n",
      "NumPartitions при создании 8\n"
     ]
    },
    {
     "name": "stderr",
     "output_type": "stream",
     "text": [
      "                                                                                \r"
     ]
    },
    {
     "data": {
      "text/plain": [
       "[Row(value=0, col2=0.0),\n",
       " Row(value=20000000, col2=2000000.0),\n",
       " Row(value=40000000, col2=4000000.0),\n",
       " Row(value=60000000, col2=6000000.0),\n",
       " Row(value=80000000, col2=8000000.0),\n",
       " Row(value=100000000, col2=10000000.0),\n",
       " Row(value=120000000, col2=12000000.0),\n",
       " Row(value=140000000, col2=14000000.0),\n",
       " Row(value=160000000, col2=16000000.0),\n",
       " Row(value=180000000, col2=18000000.0)]"
      ]
     },
     "execution_count": 8,
     "metadata": {},
     "output_type": "execute_result"
    }
   ],
   "source": [
    "spark = spark_restart(spark)\n",
    "rdd = spark.sparkContext.parallelize(range(200_000_000))\n",
    "df = spark.createDataFrame(rdd, IntegerType())\n",
    "print('NumPartitions при создании', df.rdd.getNumPartitions())\n",
    "\n",
    "(df.withColumn('col2', df['value']*0.1)\n",
    " .filter(df['value']%20_000_000 == 0)\n",
    " .collect()\n",
    ")"
   ]
  },
  {
   "cell_type": "markdown",
   "id": "745e6b1d-8725-45b5-ab7a-0fdf9da443ad",
   "metadata": {},
   "source": [
    "Перейдем в Spark UI\n",
    "- Задание выполняется в одну стадию, 8 тасков, все ядра заняты\n",
    "- Время выполнения 30 секунд"
   ]
  },
  {
   "cell_type": "markdown",
   "id": "0ae22a8b-5aa2-47ad-a4ca-22749a3dbe5c",
   "metadata": {},
   "source": [
    "![event timeline filter 8 partitions in one stage](images/filter_8_partitions_1_stage.png)\n",
    "\n",
    "![event timeline filter and collect 8 partitions](images/filter_8_partitions_8_tasks.png)\n"
   ]
  },
  {
   "cell_type": "markdown",
   "id": "cc5d7193-40f7-4f2e-8167-234395902039",
   "metadata": {},
   "source": [
    "#### 2 partitions, 1 stage, 2 tasks\n"
   ]
  },
  {
   "cell_type": "markdown",
   "id": "0c7c776f-b56a-4194-b10e-b938167d98e7",
   "metadata": {},
   "source": [
    "Создаем датафрейм на две партиции\n"
   ]
  },
  {
   "cell_type": "code",
   "execution_count": 9,
   "id": "8dec1ca4-9fee-40a8-b438-05476ad97b67",
   "metadata": {},
   "outputs": [
    {
     "name": "stdout",
     "output_type": "stream",
     "text": [
      "Restart session\n",
      "NumPartitions при создании 2\n"
     ]
    },
    {
     "name": "stderr",
     "output_type": "stream",
     "text": [
      "                                                                                \r"
     ]
    },
    {
     "data": {
      "text/plain": [
       "[Row(value=0, col2=0.0),\n",
       " Row(value=20000000, col2=2000000.0),\n",
       " Row(value=40000000, col2=4000000.0),\n",
       " Row(value=60000000, col2=6000000.0),\n",
       " Row(value=80000000, col2=8000000.0),\n",
       " Row(value=100000000, col2=10000000.0),\n",
       " Row(value=120000000, col2=12000000.0),\n",
       " Row(value=140000000, col2=14000000.0),\n",
       " Row(value=160000000, col2=16000000.0),\n",
       " Row(value=180000000, col2=18000000.0)]"
      ]
     },
     "execution_count": 9,
     "metadata": {},
     "output_type": "execute_result"
    }
   ],
   "source": [
    "spark = spark_restart(spark)\n",
    "rdd = spark.sparkContext.parallelize(range(200_000_000), numSlices=2)\n",
    "df = spark.createDataFrame(rdd, IntegerType())\n",
    "print('NumPartitions при создании', df.rdd.getNumPartitions())\n",
    "\n",
    "(df.withColumn('col2', df['value']*0.1)\n",
    " .filter(df['value']%20_000_000 == 0)\n",
    " .collect()\n",
    ")"
   ]
  },
  {
   "cell_type": "markdown",
   "id": "429cc012-c115-4053-b4a9-ed615d01da95",
   "metadata": {},
   "source": [
    "Время выполнения 58 секунд, заметна разница с предыдущим тестом на 8 ядер\n",
    "\n",
    "- То есть для больших датасетов оптимизация количества партиций важна! (на маленьких это не заметно)\n",
    "- В данном случае на двух партициях задача выполняется около минуты, а на 8 партициях за 30 сек"
   ]
  },
  {
   "cell_type": "markdown",
   "id": "d414bd92-1526-43c5-bd4f-25a5f5850a9b",
   "metadata": {},
   "source": [
    "![event timeline filter 2 partitions in 1 stages](images/filter_2_partitions_1_stage.png)\n",
    "\n",
    "![event timeline filter 2 partitions 2 tasks](images/filter_2_partitions_2_tasks.png)"
   ]
  },
  {
   "cell_type": "markdown",
   "id": "9699ecd2-4684-4b4d-9e4a-d65e7ce780ac",
   "metadata": {},
   "source": [
    "# Заключение\n",
    "\n",
    "- Распараллеливание зависит от партиционирования\n",
    "- Партиционирование зависит от ...?\n",
    "- Оптимизацию надо подбирать под конкретные задачи 🤓"
   ]
  },
  {
   "cell_type": "markdown",
   "id": "3edbfef5-cd04-40fd-a825-335a3021b8cb",
   "metadata": {},
   "source": [
    "Не забываем останавливать спарк-сессию. После остановки Spark UI будет недоступен."
   ]
  },
  {
   "cell_type": "code",
   "execution_count": 71,
   "id": "72705a2f",
   "metadata": {},
   "outputs": [],
   "source": [
    "spark.stop()"
   ]
  }
 ],
 "metadata": {
  "kernelspec": {
   "display_name": "Python 3 (ipykernel)",
   "language": "python",
   "name": "python3"
  },
  "language_info": {
   "codemirror_mode": {
    "name": "ipython",
    "version": 3
   },
   "file_extension": ".py",
   "mimetype": "text/x-python",
   "name": "python",
   "nbconvert_exporter": "python",
   "pygments_lexer": "ipython3",
   "version": "3.11.4"
  }
 },
 "nbformat": 4,
 "nbformat_minor": 5
}
